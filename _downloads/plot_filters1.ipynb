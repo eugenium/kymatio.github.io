{
  "cells": [
    {
      "cell_type": "code",
      "source": [
        "%matplotlib inline"
      ],
      "metadata": {
        "collapsed": false
      },
      "execution_count": null,
      "outputs": []
    },
    {
      "cell_type": "markdown",
      "source": [
        "\nPlot the 2D wavelet filters\n===========================\nSee :meth:`kymatio.scattering2d.filter_bank` for more informations about the used wavelets.\n\n"
      ],
      "metadata": {}
    },
    {
      "cell_type": "code",
      "source": [
        "import matplotlib.pyplot as plt\nimport numpy as np\nfrom kymatio.scattering2d.filter_bank import filter_bank\nfrom kymatio.scattering2d.utils import fft2"
      ],
      "metadata": {
        "collapsed": false
      },
      "execution_count": null,
      "outputs": []
    },
    {
      "cell_type": "markdown",
      "source": [
        "Initial parameters of the filter bank\n-------------------------------------\n\n"
      ],
      "metadata": {}
    },
    {
      "cell_type": "code",
      "source": [
        "M = 32\nJ = 3\nL = 8\nfilters_set = filter_bank(M, M, J, L=L)"
      ],
      "metadata": {
        "collapsed": false
      },
      "execution_count": null,
      "outputs": []
    },
    {
      "cell_type": "markdown",
      "source": [
        "Imshow complex images\n---------------------\nThanks to https://stackoverflow.com/questions/17044052/mathplotlib-imshow-complex-2d-array\n\n"
      ],
      "metadata": {}
    },
    {
      "cell_type": "code",
      "source": [
        "from colorsys import hls_to_rgb\ndef colorize(z):\n    n, m = z.shape\n    c = np.zeros((n, m, 3))\n    c[np.isinf(z)] = (1.0, 1.0, 1.0)\n    c[np.isnan(z)] = (0.5, 0.5, 0.5)\n\n    idx = ~(np.isinf(z) + np.isnan(z))\n    A = (np.angle(z[idx]) + np.pi) / (2*np.pi)\n    A = (A + 0.5) % 1.0\n    B =  1.0/(1.0+abs(z[idx])**0.3)\n    c[idx] = [hls_to_rgb(a, b, 0.8) for a,b in zip(A,B)]\n    return c"
      ],
      "metadata": {
        "collapsed": false
      },
      "execution_count": null,
      "outputs": []
    },
    {
      "cell_type": "markdown",
      "source": [
        "Bandpass filters\n----------------\nFirst, we display each wavelet according to its scale and orientation.\n\n"
      ],
      "metadata": {}
    },
    {
      "cell_type": "code",
      "source": [
        "fig, axs = plt.subplots(J, L, sharex=True, sharey=True)\nfig.set_figheight(6)\nfig.set_figwidth(6)\nplt.rc('text', usetex=True)\nplt.rc('font', family='serif')\ni=0\nfor filter in filters_set['psi']:\n    f_r = filter[0][...,0].numpy()\n    f_i = filter[0][..., 1].numpy()\n    f = f_r + 1j*f_i\n    filter_c = fft2(f)\n    filter_c = np.fft.fftshift(filter_c)\n    axs[i // L, i % L].imshow(colorize(filter_c))\n    axs[i // L, i % L].axis('off')\n    axs[i // L, i % L].set_title(\"$j = {}$ \\n $\\\\theta={}$\".format(i // L, i % L))\n    i = i+1\n\nfig.suptitle(\"Wavelets for each scales $j$ and angles $\\\\theta$ used.\"\n\"\\n Color saturation and color hue respectively denote complex magnitude and complex phase.\", fontsize=13)\nfig.show()"
      ],
      "metadata": {
        "collapsed": false
      },
      "execution_count": null,
      "outputs": []
    },
    {
      "cell_type": "markdown",
      "source": [
        "Lowpass filter\n--------------\nWe finally display the low-pass filter.\n\n"
      ],
      "metadata": {}
    },
    {
      "cell_type": "code",
      "source": [
        "plt.figure()\nplt.rc('text', usetex=True)\nplt.rc('font', family='serif')\nplt.axis('off')\nplt.set_cmap('gray_r')\n\nf_r = filters_set['phi'][0][..., 0].numpy()\nf_i = filters_set['phi'][0][..., 1].numpy()\nf = f_r + 1j*f_i\n\nfilter_c = fft2(f)\nfilter_c = np.fft.fftshift(filter_c)\nplt.suptitle(\"The corresponding low-pass filter, also known as scaling function.\"\n\"Color saturation and color hue respectively denote complex magnitude and complex phase\", fontsize=13)\nfilter_c = np.abs(filter_c)\nplt.imshow(filter_c)"
      ],
      "metadata": {
        "collapsed": false
      },
      "execution_count": null,
      "outputs": []
    }
  ],
  "nbformat": 4,
  "metadata": {
    "language_info": {
      "codemirror_mode": {
        "name": "ipython",
        "version": 3
      },
      "mimetype": "text/x-python",
      "name": "python",
      "version": "3.5.2",
      "pygments_lexer": "ipython3",
      "nbconvert_exporter": "python",
      "file_extension": ".py"
    },
    "kernelspec": {
      "name": "python3",
      "display_name": "Python 3",
      "language": "python"
    }
  },
  "nbformat_minor": 0
}