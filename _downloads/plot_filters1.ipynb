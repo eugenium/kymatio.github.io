{
  "cells": [
    {
      "cell_type": "code",
      "execution_count": null,
      "metadata": {
        "collapsed": false
      },
      "outputs": [],
      "source": [
        "%matplotlib inline"
      ]
    },
    {
      "cell_type": "markdown",
      "metadata": {},
      "source": [
        "\nPlot the 2D wavelet filters\n===========================\nSee :meth:`scattering.scattering1d.filter_bank` for more informations about the used wavelets.\n\n"
      ]
    },
    {
      "cell_type": "code",
      "execution_count": null,
      "metadata": {
        "collapsed": false
      },
      "outputs": [],
      "source": [
        "import numpy as np\nimport matplotlib.pyplot as plt\nfrom kymatio.scattering2d.filter_bank import filter_bank\nfrom kymatio.scattering2d.utils import fft2"
      ]
    },
    {
      "cell_type": "markdown",
      "metadata": {},
      "source": [
        "Initial parameters of the filter bank\n-------------------------------------\n\n"
      ]
    },
    {
      "cell_type": "code",
      "execution_count": null,
      "metadata": {
        "collapsed": false
      },
      "outputs": [],
      "source": [
        "M = 32\nJ = 3\nL = 8\nfilters_set = filter_bank(M, M, J, L=L)"
      ]
    },
    {
      "cell_type": "markdown",
      "metadata": {},
      "source": [
        "Imshow complex images\n-------------------------------------\nThanks to https://stackoverflow.com/questions/17044052/mathplotlib-imshow-complex-2d-array\n\n"
      ]
    },
    {
      "cell_type": "code",
      "execution_count": null,
      "metadata": {
        "collapsed": false
      },
      "outputs": [],
      "source": [
        "from colorsys import hls_to_rgb\ndef colorize(z):\n    n, m = z.shape\n    c = np.zeros((n, m, 3))\n    c[np.isinf(z)] = (1.0, 1.0, 1.0)\n    c[np.isnan(z)] = (0.5, 0.5, 0.5)\n\n    idx = ~(np.isinf(z) + np.isnan(z))\n    A = (np.angle(z[idx]) + np.pi) / (2*np.pi)\n    A = (A + 0.5) % 1.0\n    B =  1.0/(1.0+abs(z[idx])**0.3)\n    c[idx] = [hls_to_rgb(a, b, 0.8) for a,b in zip(A,B)]\n    return c\n\nfig, axs = plt.subplots(J+1, L, sharex=True, sharey=True)\nplt.rc('text', usetex=True)\nplt.rc('font', family='serif')"
      ]
    },
    {
      "cell_type": "markdown",
      "metadata": {},
      "source": [
        "Bandpass filters\n----------------\nFirst, we display each wavelets according to each scale and orientation.\n\n"
      ]
    },
    {
      "cell_type": "code",
      "execution_count": null,
      "metadata": {
        "collapsed": false
      },
      "outputs": [],
      "source": [
        "i=0\nfor filter in filters_set['psi']:\n    f_r = filter[0][...,0].numpy()\n    f_i = filter[0][..., 1].numpy()\n    f = f_r + 1j*f_i\n    filter_c = fft2(f)\n    filter_c = np.fft.fftshift(filter_c)\n    axs[i // L, i % L].imshow(colorize(filter_c))\n    axs[i // L, i % L].axis('off')\n    axs[i // L, i % L].set_title(\"$j = {}$ \\n $\\\\theta={}\".format(i // L, i % L))\n    i = i+1\n\n\n# Add blanks for pretty display\nfor z in range(L):\n    axs[i // L, i % L].axis('off')\n    i = i+1"
      ]
    },
    {
      "cell_type": "markdown",
      "metadata": {},
      "source": [
        "Lowpass filter\n----------------\nWe finally display the Gaussian filter.\n\n"
      ]
    },
    {
      "cell_type": "code",
      "execution_count": null,
      "metadata": {
        "collapsed": false
      },
      "outputs": [],
      "source": [
        "f_r = filters_set['phi'][0][...,0].numpy()\nf_i = filters_set['phi'][0][..., 1].numpy()\nf = f_r + 1j*f_i\nfilter_c = fft2(f)\nfilter_c = np.fft.fftshift(filter_c)\naxs[J, L // 2].imshow(colorize(filter_c))\n\n# Final caption.\nfig.suptitle(\"Wavelets for each scales $j$ and angles $\\\\theta$ used, with the corresponding low-pass filter.\"\n             \"\\n The contrast corresponds to the amplitude and the color to the phase.\", fontsize=13)\n\n\nplt.show()"
      ]
    }
  ],
  "metadata": {
    "kernelspec": {
      "display_name": "Python 3",
      "language": "python",
      "name": "python3"
    },
    "language_info": {
      "codemirror_mode": {
        "name": "ipython",
        "version": 3
      },
      "file_extension": ".py",
      "mimetype": "text/x-python",
      "name": "python",
      "nbconvert_exporter": "python",
      "pygments_lexer": "ipython3",
      "version": "3.6.6"
    }
  },
  "nbformat": 4,
  "nbformat_minor": 0
}