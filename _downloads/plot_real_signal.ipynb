{
  "cells": [
    {
      "cell_type": "code",
      "execution_count": null,
      "metadata": {
        "collapsed": false
      },
      "outputs": [],
      "source": [
        "%matplotlib inline"
      ]
    },
    {
      "cell_type": "markdown",
      "metadata": {},
      "source": [
        "\nCompute the scattering transform of a speech recording\n======================================================\nThis script loads a speech signal from the free spoken digit dataset (FSDD)\nof a man pronouncing the word \"zero,\" computes its scattering transform, and\ndisplays the zeroth-, first-, and second-order scattering coefficients.\n\n"
      ]
    },
    {
      "cell_type": "markdown",
      "metadata": {},
      "source": [
        "Preliminaries\n-------------\n\nSince kymatio handles PyTorch arrays, we first import `torch`.\n\n"
      ]
    },
    {
      "cell_type": "code",
      "execution_count": null,
      "metadata": {
        "collapsed": false
      },
      "outputs": [],
      "source": [
        "import torch"
      ]
    },
    {
      "cell_type": "markdown",
      "metadata": {},
      "source": [
        "To handle audio file I/O, we import `os` and `scipy.io.wavfile`.\n\n"
      ]
    },
    {
      "cell_type": "code",
      "execution_count": null,
      "metadata": {
        "collapsed": false
      },
      "outputs": [],
      "source": [
        "import os\nimport scipy.io.wavfile"
      ]
    },
    {
      "cell_type": "markdown",
      "metadata": {},
      "source": [
        "We import `matplotlib` to plot the calculated scattering coefficients.\n\n"
      ]
    },
    {
      "cell_type": "code",
      "execution_count": null,
      "metadata": {
        "collapsed": false
      },
      "outputs": [],
      "source": [
        "import matplotlib.pyplot as plt"
      ]
    },
    {
      "cell_type": "markdown",
      "metadata": {},
      "source": [
        "Finally, we import the `Scattering1D` class from the `scattering` package and\nthe `fetch_fsdd` function from `scattering.datasets`. The `Scattering1D`\nclass is what lets us calculate the scattering transform, while the\n`fetch_fsdd` function downloads the FSDD, if needed.\n\n"
      ]
    },
    {
      "cell_type": "code",
      "execution_count": null,
      "metadata": {
        "collapsed": false
      },
      "outputs": [],
      "source": [
        "from kymatio import Scattering1D\nfrom kymatio.datasets import fetch_fsdd"
      ]
    },
    {
      "cell_type": "markdown",
      "metadata": {},
      "source": [
        "Scattering setup\n----------------\nFirst, we make download the FSDD (if not already downloaded) and read in the\nrecording `0_jackson_0.wav` of a man pronouncing the word \"zero\".\n\n"
      ]
    },
    {
      "cell_type": "code",
      "execution_count": null,
      "metadata": {
        "collapsed": false
      },
      "outputs": [],
      "source": [
        "info_dataset = fetch_fsdd(verbose=True)\n\nfile_path = os.path.join(info_dataset['path_dataset'],\n                        sorted(info_dataset['files'])[0])\n_, x = scipy.io.wavfile.read(file_path)"
      ]
    },
    {
      "cell_type": "markdown",
      "metadata": {},
      "source": [
        "Once the recording is in memory, we convert it to a PyTorch Tensor, normalize\nit, and reshape it to the form `(B, C, T)`, where `B` is the batch size, `C`\nis the number of channels, and `T` is the number of samples in the recording.\nIn our case, we have only one signal in our batch, so `B = 1`. We also have\na single channel, so `C = 1`. Note that `C` is almost always `1`, for input\nTensors as this axis indexes the different scattering coefficients.\n\n"
      ]
    },
    {
      "cell_type": "code",
      "execution_count": null,
      "metadata": {
        "collapsed": false
      },
      "outputs": [],
      "source": [
        "x = torch.from_numpy(x).float()\nx /= x.abs().max()\nx = x.view(1, 1, -1)"
      ]
    },
    {
      "cell_type": "markdown",
      "metadata": {},
      "source": [
        "We are now ready to set up the parameters for the scattering transform.\nFirst, the number of samples, `T`, is given by the size of our input `x`.\nThe averaging scale is specified as a power of two, `2**J`. Here, we set\n`J = 6` to get an averaging, or maximum, scattering scale of `2**6 = 64`\nsamples. Finally, we set the number of wavelets per octave, `Q`, to `16`.\nThis lets us resolve frequencies at a resolution of `1/16` octaves.\n\n"
      ]
    },
    {
      "cell_type": "code",
      "execution_count": null,
      "metadata": {
        "collapsed": false
      },
      "outputs": [],
      "source": [
        "T = x.shape[-1]\nJ = 6\nQ = 16"
      ]
    },
    {
      "cell_type": "markdown",
      "metadata": {},
      "source": [
        "Finally, we are able to create the object which computes our scattering\ntransform, `scattering`.\n\n"
      ]
    },
    {
      "cell_type": "code",
      "execution_count": null,
      "metadata": {
        "collapsed": false
      },
      "outputs": [],
      "source": [
        "scattering = Scattering1D(T, J, Q)"
      ]
    },
    {
      "cell_type": "markdown",
      "metadata": {},
      "source": [
        "Compute and display the scattering coefficients\n-----------------------------------------------\nComputing the scattering transform of a PyTorch Tensor is achieved using the\n`forward()` method of the `Scattering1D` class. The output is another Tensor\nof shape `(B, C, T)`. Here, `B` is the same as for the input `x`, but `C` is\nthe number of scattering coefficient outputs, and `T` is the number of\nsamples along the time axis. This is typically much smaller than the number\nof input samples since the scattering transform performs an average in time\nand subsamples the result to save memory.\n\n"
      ]
    },
    {
      "cell_type": "code",
      "execution_count": null,
      "metadata": {
        "collapsed": false
      },
      "outputs": [],
      "source": [
        "Sx = scattering.forward(x)"
      ]
    },
    {
      "cell_type": "markdown",
      "metadata": {},
      "source": [
        "To display the scattering coefficients, we must first identify which belong\nto each order (zeroth, first, or second). We do this by extracting the `meta`\ninformation from the scattering object and constructing masks for each order.\n\n"
      ]
    },
    {
      "cell_type": "code",
      "execution_count": null,
      "metadata": {
        "collapsed": false
      },
      "outputs": [],
      "source": [
        "meta = Scattering1D.compute_meta_scattering(J, Q)\norder0 = (meta['order'] == 0)\norder1 = (meta['order'] == 1)\norder2 = (meta['order'] == 2)"
      ]
    },
    {
      "cell_type": "markdown",
      "metadata": {},
      "source": [
        "First, we plot the original signal `x`. Note that we have to index it as\n`x[0,0,:]` to convert it to a one-dimensional array and convert it to a\nnumpy array using the `numpy()` method.\n\n"
      ]
    },
    {
      "cell_type": "code",
      "execution_count": null,
      "metadata": {
        "collapsed": false
      },
      "outputs": [],
      "source": [
        "plt.figure(figsize=(8, 2))\nplt.plot(x[0,0,:].numpy())\nplt.title('Original signal')"
      ]
    },
    {
      "cell_type": "markdown",
      "metadata": {},
      "source": [
        "We now plot the zeroth-order scattering coefficient, which is simply an\naverage of the original signal at the scale `2**J`.\n\n"
      ]
    },
    {
      "cell_type": "code",
      "execution_count": null,
      "metadata": {
        "collapsed": false
      },
      "outputs": [],
      "source": [
        "plt.figure(figsize=(8, 2))\nplt.plot(Sx[0,order0,:].numpy().ravel())\nplt.title('Scattering Order 0')"
      ]
    },
    {
      "cell_type": "markdown",
      "metadata": {},
      "source": [
        "We then plot the first-order coefficients, which are arranged along time\nand log-frequency.\n\n"
      ]
    },
    {
      "cell_type": "code",
      "execution_count": null,
      "metadata": {
        "collapsed": false
      },
      "outputs": [],
      "source": [
        "plt.figure(figsize=(8, 2))\nplt.imshow(Sx[0,order1,:].numpy(), aspect='auto')\nplt.title('Scattering Order 1')"
      ]
    },
    {
      "cell_type": "markdown",
      "metadata": {},
      "source": [
        "Finally, we plot the second-order scattering coefficients. These are also\norganized aling time, but has two log-frequency indices: one first-order\nfrequency and one second-order frequency. Here, both indices are mixed along\nthe vertical axis.\n\n"
      ]
    },
    {
      "cell_type": "code",
      "execution_count": null,
      "metadata": {
        "collapsed": false
      },
      "outputs": [],
      "source": [
        "plt.figure(figsize=(8, 2))\nplt.imshow(Sx[0,order2,:].numpy(), aspect='auto')\nplt.title('Scattering Order 2')"
      ]
    },
    {
      "cell_type": "markdown",
      "metadata": {},
      "source": [
        "Display the plots!\n\n"
      ]
    },
    {
      "cell_type": "code",
      "execution_count": null,
      "metadata": {
        "collapsed": false
      },
      "outputs": [],
      "source": [
        "plt.show()"
      ]
    }
  ],
  "metadata": {
    "kernelspec": {
      "display_name": "Python 3",
      "language": "python",
      "name": "python3"
    },
    "language_info": {
      "codemirror_mode": {
        "name": "ipython",
        "version": 3
      },
      "file_extension": ".py",
      "mimetype": "text/x-python",
      "name": "python",
      "nbconvert_exporter": "python",
      "pygments_lexer": "ipython3",
      "version": "3.6.6"
    }
  },
  "nbformat": 4,
  "nbformat_minor": 0
}