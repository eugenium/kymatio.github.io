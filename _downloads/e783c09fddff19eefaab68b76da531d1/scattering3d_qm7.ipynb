{
  "cells": [
    {
      "cell_type": "code",
      "execution_count": null,
      "metadata": {
        "collapsed": false
      },
      "outputs": [],
      "source": [
        "%matplotlib inline"
      ]
    },
    {
      "cell_type": "markdown",
      "metadata": {},
      "source": [
        "\n3D scattering quantum chemistry regression\n==========================================\nThis uses the 3D scattering on a standard dataset.\n\n"
      ]
    },
    {
      "cell_type": "code",
      "execution_count": null,
      "metadata": {
        "collapsed": false
      },
      "outputs": [],
      "source": [
        "import numpy as np\nimport time\nimport torch\nimport os\n\nfrom sklearn import linear_model, model_selection, preprocessing, pipeline\nfrom kymatio.scattering3d import HarmonicScattering3D\nfrom kymatio.scattering3d.utils import compute_integrals, generate_weighted_sum_of_gaussians\nfrom kymatio.datasets import fetch_qm7\nfrom kymatio.caching import get_cache_dir\nfrom scipy.spatial.distance import pdist\n\n\ndef evaluate_linear_regression(X, y, n_folds=5):\n    \"\"\"\n    Evaluates linear ridge regression predictions of y using X.\n\n    Parameters\n    ----------\n    X:  numpy array\n        input features, shape (N, D)\n    y: numpy array\n        target value, shape (N, 1)\n\n    \"\"\"\n    n_datapoints = X.shape[0]\n    P = np.random.permutation(n_datapoints).reshape((n_folds, -1))\n    cross_val_folds = []\n\n    for i_fold in range(n_folds):\n        fold = (np.concatenate(P[np.arange(n_folds) != i_fold], axis=0), P[i_fold])\n        cross_val_folds.append(fold)\n\n    alphas = 10.**(-np.arange(0, 10))\n    for i, alpha in enumerate(alphas):\n        regressor = pipeline.make_pipeline(\n            preprocessing.StandardScaler(), linear_model.Ridge(alpha=alpha))\n        y_prediction = model_selection.cross_val_predict(\n            regressor, X=X, y=y, cv=cross_val_folds)\n        MAE = np.mean(np.abs(y_prediction - y))\n        RMSE = np.sqrt(np.mean((y_prediction - y)**2))\n        print('Ridge regression, alpha: {}, MAE: {}, RMSE: {}'.format(\n            alpha, MAE, RMSE))\n\n\ndef get_valence(charges):\n    \"\"\"\n        Returns the number valence electrons of a particle given the\n        nuclear charge.\n\n        Parameters\n        ----------\n        charges: numpy array\n            array containing the nuclear charges, arbitrary size\n\n        Returns\n        -------\n        valence_charges : numpy array\n            same size as the input\n    \"\"\"\n    return (\n        charges * (charges <= 2) +\n        (charges - 2) * np.logical_and(charges > 2, charges <= 10) +\n        (charges - 10) * np.logical_and(charges > 10, charges <= 18))\n\n\ndef get_qm7_energies():\n    \"\"\"\n        Loads the energies of the molecules of the QM7 dataset.\n\n        Returns\n        -------\n        energies: numpy array\n            array containing the energies of the molecules\n    \"\"\"\n    qm7 = fetch_qm7()\n    return qm7['energies']\n\n\n\ndef get_qm7_positions_and_charges(sigma, overlapping_precision=1e-1):\n    \"\"\"\n        Loads the positions and charges of the molecules of the QM7 dataset.\n        QM7 is a dataset of 7165 organic molecules with up to 7 non-hydrogen\n        atoms, whose energies were computed with a quantun chemistry\n        computational method named Density Functional Theory.\n        This dataset has been made available to train machine learning models\n        to predict these energies.\n\n        Parameters\n        ----------\n        sigma : float\n            width parameter of the Gaussian that represents a particle\n\n        overlapping_precision : float, optional\n            affects the scaling of the positions. The positions are re-scaled\n            such that two Gaussian functions of width sigma centerd at the qm7\n            positions overlapp with amplitude <= the overlapping_precision\n\n        Returns\n        -------\n        positions, charges, valence_charges: torch arrays\n            array containing the positions, charges and valence charges\n            of the QM7 database molecules\n    \"\"\"\n    qm7 = fetch_qm7(align=True)\n    positions = qm7['positions']\n    charges = qm7['charges'].astype('float32')\n    valence_charges = get_valence(charges)\n\n    # normalize positions\n    min_dist = np.inf\n    for i in range(positions.shape[0]):\n        n_atoms = np.sum(charges[i] != 0)\n        pos = positions[i, :n_atoms, :]\n        min_dist = min(min_dist, pdist(pos).min())\n    delta = sigma * np.sqrt(-8 * np.log(overlapping_precision))\n    positions = positions * delta / min_dist\n\n    return (torch.from_numpy(positions),\n            torch.from_numpy(charges),\n            torch.from_numpy(valence_charges))\n\n\ndef compute_qm7_solid_harmonic_scattering_coefficients(\n        M=192, N=128, O=96, sigma=2., J=2, L=3,\n        integral_powers=(0.5, 1., 2., 3.), batch_size=16):\n    \"\"\"\n        Computes the scattering coefficients of the molecules of the\n        QM7 database. Channels used are full charges, valence charges\n        and core charges. Linear regression of the qm7 energies with\n        the given values gives MAE 2.75, RMSE 4.18 (kcal.mol-1).\n\n        Parameters\n        ----------\n        M, N, O: int\n            dimensions of the numerical grid\n        sigma : float\n            width parameter of the Gaussian that represents a particle\n        J: int\n            maximal scale of the solid harmonic wavelets\n        L: int\n            maximal first order of the solid harmonic wavelets\n        integral_powers: list of int\n            powers for the integrals\n        batch_size: int\n            size of the batch for computations\n\n        Returns\n        -------\n        order_0: torch tensor\n            array containing zeroth-order scattering coefficients\n        orders_1_and_2: torch tensor\n            array containing first- and second-order scattering coefficients\n    \"\"\"\n    cuda = torch.cuda.is_available()\n    grid = torch.from_numpy(\n        np.fft.ifftshift(\n            np.mgrid[-M//2:-M//2+M, -N//2:-N//2+N, -O//2:-O//2+O].astype('float32'),\n            axes=(1, 2, 3)))\n    pos, full_charges, valence_charges = get_qm7_positions_and_charges(sigma)\n\n    if cuda:\n        grid = grid.cuda()\n        pos = pos.cuda()\n        full_charges = full_charges.cuda()\n        valence_charges = valence_charges.cuda()\n\n    n_molecules = pos.size(0)\n    n_batches = np.ceil(n_molecules / batch_size).astype(int)\n\n    scattering = HarmonicScattering3D(J=J, shape=(M, N, O), L=L, sigma_0=sigma)\n\n    order_0, order_1, order_2 = [], [], []\n    print('Computing solid harmonic scattering coefficients of {} molecules '\n        'of QM7 database on {}'.format(pos.size(0), 'GPU' if cuda else 'CPU'))\n    print('sigma: {}, L: {}, J: {}, integral powers: {}'.format(sigma, L, J, integral_powers))\n\n    this_time = None\n    last_time = None\n    for i in range(n_batches):\n        this_time = time.time()\n        if last_time is not None:\n            dt = this_time - last_time\n            print(\"Iteration {} ETA: [{:02}:{:02}:{:02}]\".format(\n                        i + 1, int(((n_batches - i - 1) * dt) // 3600),\n                        int((((n_batches - i - 1) * dt) // 60) % 60),\n                        int(((n_batches - i - 1) * dt) % 60)), end='\\r')\n        else:\n            print(\"Iteration {} ETA: {}\".format(i + 1,'-'),end='\\r')\n        last_time = this_time\n        time.sleep(1)\n\n        start, end = i * batch_size, min((i + 1) * batch_size, n_molecules)\n\n        pos_batch = pos[start:end]\n        full_batch = full_charges[start:end]\n        val_batch = valence_charges[start:end]\n\n        full_density_batch = generate_weighted_sum_of_gaussians(\n                grid, pos_batch, full_batch, sigma, cuda=cuda)\n        full_order_0 = compute_integrals(full_density_batch, integral_powers)\n        scattering.max_order = 2\n        scattering.method = 'integral'\n        scattering.integral_powers = integral_powers\n        full_scattering = scattering(full_density_batch)\n\n        val_density_batch = generate_weighted_sum_of_gaussians(\n                grid, pos_batch, val_batch, sigma, cuda=cuda)\n        val_order_0 = compute_integrals(val_density_batch, integral_powers)\n        val_scattering= scattering(val_density_batch)\n\n        core_density_batch = full_density_batch - val_density_batch\n        core_order_0 = compute_integrals(core_density_batch, integral_powers)\n        core_scattering = scattering(core_density_batch)\n\n\n        order_0.append(\n            torch.stack([full_order_0, val_order_0, core_order_0], dim=-1))\n        orders_1_and_2.append(\n            torch.stack(\n                [full_scattering, val_scattering, core_scattering], dim=-1))\n\n    order_0 = torch.cat(order_0, dim=0)\n    orders_1_and_2 = torch.cat(orders_1_and_2, dim=0)\n\n    return order_0, orders_1_and_2\n\nM, N, O, J, L = 192, 128, 96, 2, 3\nintegral_powers = [0.5,  1., 2., 3.]\nsigma = 2.\n\norder_0, orders_1_and_2 = compute_qm7_solid_harmonic_scattering_coefficients(\n    M=M, N=N, O=O, J=J, L=L, integral_powers=integral_powers,\n    sigma=sigma, batch_size=8)\n\nn_molecules = order_0.size(0)\n\nnp_order_0 = order_0.numpy().reshape((n_molecules, -1))\nnp_orders_1_and_2 = orders_1_and_2.numpy().reshape((n_molecules, -1))\n\nbasename = 'qm7_L_{}_J_{}_sigma_{}_MNO_{}_powers_{}.npy'.format(\n        L, J, sigma, (M, N, O), integral_powers)\ncachedir = get_cache_dir(\"qm7/experiments\")\nnp.save(os.path.join(cachedir, 'order_0_' + basename), np_order_0)\nnp.save(os.path.join(\n    cachedir, 'orders_1_and_2_' + basename), np_orders_1_and_2)\n\nscattering_coef = np.concatenate([np_order_0, np_orders_1_and_2], axis=1)\ntarget = get_qm7_energies()\n\nevaluate_linear_regression(scattering_coef, target)"
      ]
    }
  ],
  "metadata": {
    "kernelspec": {
      "display_name": "Python 3",
      "language": "python",
      "name": "python3"
    },
    "language_info": {
      "codemirror_mode": {
        "name": "ipython",
        "version": 3
      },
      "file_extension": ".py",
      "mimetype": "text/x-python",
      "name": "python",
      "nbconvert_exporter": "python",
      "pygments_lexer": "ipython3",
      "version": "3.6.7"
    }
  },
  "nbformat": 4,
  "nbformat_minor": 0
}