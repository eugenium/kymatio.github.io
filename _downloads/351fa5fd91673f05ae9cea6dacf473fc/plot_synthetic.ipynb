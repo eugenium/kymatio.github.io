{
  "cells": [
    {
      "cell_type": "code",
      "execution_count": null,
      "metadata": {
        "collapsed": false
      },
      "outputs": [],
      "source": [
        "%matplotlib inline"
      ]
    },
    {
      "cell_type": "markdown",
      "metadata": {},
      "source": [
        "\nCompute the scattering transform of a synthetic signal\n======================================================\n\nIn this example we generate a harmonic signal of a few different frequencies\nand analyze it with the 1D scattering transform.\n\n"
      ]
    },
    {
      "cell_type": "markdown",
      "metadata": {},
      "source": [
        "Import the necessary packages\n-----------------------------\n\n"
      ]
    },
    {
      "cell_type": "code",
      "execution_count": null,
      "metadata": {
        "collapsed": false
      },
      "outputs": [],
      "source": [
        "import torch\nfrom kymatio import Scattering1D\nimport matplotlib.pyplot as plt\nimport numpy as np"
      ]
    },
    {
      "cell_type": "markdown",
      "metadata": {},
      "source": [
        "Write a function that can generate a harmonic signal\n----------------------------------------------------\nLet's write a function that can generate some simple blip-type sounds with\ndecaying harmonics. It will take four arguments: T, the length of the output\nvector; num_intervals, the number of different blips; gamma, the exponential\ndecay factor of the harmonic; random_state, a random seed to generate\nrandom pitches and phase shifts.\nThe function proceeds by splitting the time length T into intervals, chooses\nbase frequencies and phases, generates sinusoidal sounds and harmonics,\nand then adds a windowed version to the output signal.\n\n"
      ]
    },
    {
      "cell_type": "code",
      "execution_count": null,
      "metadata": {
        "collapsed": false
      },
      "outputs": [],
      "source": [
        "def generate_harmonic_signal(T, num_intervals=4, gamma=0.9, random_state=42):\n    \"\"\"\n    Generates a harmonic signal, which is made of piecewise constant notes\n    (of random fundamental frequency), with half overlap\n    \"\"\"\n    rng = np.random.RandomState(random_state)\n    num_notes = 2 * (num_intervals - 1) + 1\n    support = T // num_intervals\n    half_support = support // 2\n\n    base_freq = 0.1 * rng.rand(num_notes) + 0.05\n    phase = 2 * np.pi * rng.rand(num_notes)\n    window = np.hanning(support)\n    x = np.zeros(T, dtype='float32')\n    t = np.arange(0, support)\n    u = 2 * np.pi * t\n    for i in range(num_notes):\n        ind_start = i * half_support\n        note = np.zeros(support)\n        for k in range(1):\n            note += (np.power(gamma, k) *\n                     np.cos(u * (k + 1) * base_freq[i] + phase[i]))\n        x[ind_start:ind_start + support] += note * window\n    # Transform x into a torch Tensor\n    x = torch.from_numpy(x[np.newaxis])\n    return x"
      ]
    },
    {
      "cell_type": "markdown",
      "metadata": {},
      "source": [
        "Let's take a look at what such a signal could look like\n-------------------------------------------------------\n\n"
      ]
    },
    {
      "cell_type": "code",
      "execution_count": null,
      "metadata": {
        "collapsed": false
      },
      "outputs": [],
      "source": [
        "T = 2 ** 13\nx = generate_harmonic_signal(T)\nplt.figure(figsize=(10, 1), dpi=300)\nplt.plot(x.numpy().ravel())\nplt.title(\"Original signal\")"
      ]
    },
    {
      "cell_type": "markdown",
      "metadata": {},
      "source": [
        "Spectrogram\n-----------\nLet's take a look at the signal spectrogram\n\n"
      ]
    },
    {
      "cell_type": "code",
      "execution_count": null,
      "metadata": {
        "collapsed": false
      },
      "outputs": [],
      "source": [
        "plt.figure(figsize=(10, 10))\nplt.specgram(x.numpy().ravel(), Fs=1024)\nplt.title(\"Time-Frequency spectrogram of signal\")"
      ]
    },
    {
      "cell_type": "markdown",
      "metadata": {},
      "source": [
        "Doing the scattering transform\n------------------------------\n\n"
      ]
    },
    {
      "cell_type": "code",
      "execution_count": null,
      "metadata": {
        "collapsed": false
      },
      "outputs": [],
      "source": [
        "J = 6\nQ = 16\n\nscattering = Scattering1D(J, T, Q)\n\n# get the metadata on the coordinates of the scattering\nmeta = Scattering1D.compute_meta_scattering(J, Q)\norder0 = (meta['order'] == 0)\norder1 = (meta['order'] == 1)\norder2 = (meta['order'] == 2)\n\ns = scattering.forward(x)[0]\nplt.figure(figsize=(10, 10), dpi=300)\nplt.subplot(3, 1, 1)\nplt.plot(s[order0].numpy())\nplt.title(\"Scattering order 0\")\nplt.subplot(3, 1, 2)\nplt.imshow(s[order1].numpy(), aspect='auto')\nplt.title(\"Scattering order 1\")\nplt.subplot(3, 1, 3)\nplt.imshow(s[order2].numpy(), aspect='auto')\nplt.title(\"Scattering order 2\")\n\nplt.show()"
      ]
    }
  ],
  "metadata": {
    "kernelspec": {
      "display_name": "Python 3",
      "language": "python",
      "name": "python3"
    },
    "language_info": {
      "codemirror_mode": {
        "name": "ipython",
        "version": 3
      },
      "file_extension": ".py",
      "mimetype": "text/x-python",
      "name": "python",
      "nbconvert_exporter": "python",
      "pygments_lexer": "ipython3",
      "version": "3.6.7"
    }
  },
  "nbformat": 4,
  "nbformat_minor": 0
}